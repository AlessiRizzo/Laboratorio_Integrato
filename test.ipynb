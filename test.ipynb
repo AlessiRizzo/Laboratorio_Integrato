{
 "cells": [
  {
   "cell_type": "code",
   "execution_count": 23,
   "metadata": {
    "collapsed": true,
    "pycharm": {
     "name": "#%%\n"
    }
   },
   "outputs": [],
   "source": [
    "import pandas as pd\n",
    "import matplotlib.pyplot as plt\n",
    "import numpy as np\n",
    "import seaborn as sns"
   ]
  },
  {
   "cell_type": "code",
   "execution_count": 26,
   "outputs": [
    {
     "data": {
      "text/plain": "     2008-01-01        esercizi alberghieri        Italia   88624  257703\n0    2008-01-01        esercizi alberghieri  Paesi esteri    5346   19124\n1    2008-01-01  esercizi extra-alberghieri        Italia    5701   20039\n2    2008-01-01  esercizi extra-alberghieri  Paesi esteri     202    2600\n3    2008-02-01        esercizi alberghieri        Italia  100147  269014\n4    2008-02-01        esercizi alberghieri  Paesi esteri    6621   24546\n..          ...                         ...           ...     ...     ...\n666  2021-11-01  esercizi extra-alberghieri  Paesi esteri     644    2153\n667  2021-12-01        esercizi alberghieri        Italia   58441  111861\n668  2021-12-01        esercizi alberghieri  Paesi esteri    2541    7108\n669  2021-12-01  esercizi extra-alberghieri        Italia    9880   22646\n670  2021-12-01  esercizi extra-alberghieri  Paesi esteri     454    1624\n\n[671 rows x 5 columns]",
      "text/html": "<div>\n<style scoped>\n    .dataframe tbody tr th:only-of-type {\n        vertical-align: middle;\n    }\n\n    .dataframe tbody tr th {\n        vertical-align: top;\n    }\n\n    .dataframe thead th {\n        text-align: right;\n    }\n</style>\n<table border=\"1\" class=\"dataframe\">\n  <thead>\n    <tr style=\"text-align: right;\">\n      <th></th>\n      <th>2008-01-01</th>\n      <th>esercizi alberghieri</th>\n      <th>Italia</th>\n      <th>88624</th>\n      <th>257703</th>\n    </tr>\n  </thead>\n  <tbody>\n    <tr>\n      <th>0</th>\n      <td>2008-01-01</td>\n      <td>esercizi alberghieri</td>\n      <td>Paesi esteri</td>\n      <td>5346</td>\n      <td>19124</td>\n    </tr>\n    <tr>\n      <th>1</th>\n      <td>2008-01-01</td>\n      <td>esercizi extra-alberghieri</td>\n      <td>Italia</td>\n      <td>5701</td>\n      <td>20039</td>\n    </tr>\n    <tr>\n      <th>2</th>\n      <td>2008-01-01</td>\n      <td>esercizi extra-alberghieri</td>\n      <td>Paesi esteri</td>\n      <td>202</td>\n      <td>2600</td>\n    </tr>\n    <tr>\n      <th>3</th>\n      <td>2008-02-01</td>\n      <td>esercizi alberghieri</td>\n      <td>Italia</td>\n      <td>100147</td>\n      <td>269014</td>\n    </tr>\n    <tr>\n      <th>4</th>\n      <td>2008-02-01</td>\n      <td>esercizi alberghieri</td>\n      <td>Paesi esteri</td>\n      <td>6621</td>\n      <td>24546</td>\n    </tr>\n    <tr>\n      <th>...</th>\n      <td>...</td>\n      <td>...</td>\n      <td>...</td>\n      <td>...</td>\n      <td>...</td>\n    </tr>\n    <tr>\n      <th>666</th>\n      <td>2021-11-01</td>\n      <td>esercizi extra-alberghieri</td>\n      <td>Paesi esteri</td>\n      <td>644</td>\n      <td>2153</td>\n    </tr>\n    <tr>\n      <th>667</th>\n      <td>2021-12-01</td>\n      <td>esercizi alberghieri</td>\n      <td>Italia</td>\n      <td>58441</td>\n      <td>111861</td>\n    </tr>\n    <tr>\n      <th>668</th>\n      <td>2021-12-01</td>\n      <td>esercizi alberghieri</td>\n      <td>Paesi esteri</td>\n      <td>2541</td>\n      <td>7108</td>\n    </tr>\n    <tr>\n      <th>669</th>\n      <td>2021-12-01</td>\n      <td>esercizi extra-alberghieri</td>\n      <td>Italia</td>\n      <td>9880</td>\n      <td>22646</td>\n    </tr>\n    <tr>\n      <th>670</th>\n      <td>2021-12-01</td>\n      <td>esercizi extra-alberghieri</td>\n      <td>Paesi esteri</td>\n      <td>454</td>\n      <td>1624</td>\n    </tr>\n  </tbody>\n</table>\n<p>671 rows × 5 columns</p>\n</div>"
     },
     "metadata": {},
     "output_type": "display_data"
    },
    {
     "data": {
      "text/plain": "     2008-01-01        esercizi alberghieri        Italia  13790  37455\n0    2008-01-01        esercizi alberghieri  Paesi esteri   1218   4128\n1    2008-01-01  esercizi extra-alberghieri        Italia    839   4391\n2    2008-01-01  esercizi extra-alberghieri  Paesi esteri     77   1302\n3    2008-02-01        esercizi alberghieri        Italia  14343  37685\n4    2008-02-01        esercizi alberghieri  Paesi esteri   1417   5090\n..          ...                         ...           ...    ...    ...\n666  2021-11-01  esercizi extra-alberghieri  Paesi esteri    175    610\n667  2021-12-01        esercizi alberghieri        Italia   9144  17671\n668  2021-12-01        esercizi alberghieri  Paesi esteri    491   1575\n669  2021-12-01  esercizi extra-alberghieri        Italia   1723   4326\n670  2021-12-01  esercizi extra-alberghieri  Paesi esteri    105    468\n\n[671 rows x 5 columns]",
      "text/html": "<div>\n<style scoped>\n    .dataframe tbody tr th:only-of-type {\n        vertical-align: middle;\n    }\n\n    .dataframe tbody tr th {\n        vertical-align: top;\n    }\n\n    .dataframe thead th {\n        text-align: right;\n    }\n</style>\n<table border=\"1\" class=\"dataframe\">\n  <thead>\n    <tr style=\"text-align: right;\">\n      <th></th>\n      <th>2008-01-01</th>\n      <th>esercizi alberghieri</th>\n      <th>Italia</th>\n      <th>13790</th>\n      <th>37455</th>\n    </tr>\n  </thead>\n  <tbody>\n    <tr>\n      <th>0</th>\n      <td>2008-01-01</td>\n      <td>esercizi alberghieri</td>\n      <td>Paesi esteri</td>\n      <td>1218</td>\n      <td>4128</td>\n    </tr>\n    <tr>\n      <th>1</th>\n      <td>2008-01-01</td>\n      <td>esercizi extra-alberghieri</td>\n      <td>Italia</td>\n      <td>839</td>\n      <td>4391</td>\n    </tr>\n    <tr>\n      <th>2</th>\n      <td>2008-01-01</td>\n      <td>esercizi extra-alberghieri</td>\n      <td>Paesi esteri</td>\n      <td>77</td>\n      <td>1302</td>\n    </tr>\n    <tr>\n      <th>3</th>\n      <td>2008-02-01</td>\n      <td>esercizi alberghieri</td>\n      <td>Italia</td>\n      <td>14343</td>\n      <td>37685</td>\n    </tr>\n    <tr>\n      <th>4</th>\n      <td>2008-02-01</td>\n      <td>esercizi alberghieri</td>\n      <td>Paesi esteri</td>\n      <td>1417</td>\n      <td>5090</td>\n    </tr>\n    <tr>\n      <th>...</th>\n      <td>...</td>\n      <td>...</td>\n      <td>...</td>\n      <td>...</td>\n      <td>...</td>\n    </tr>\n    <tr>\n      <th>666</th>\n      <td>2021-11-01</td>\n      <td>esercizi extra-alberghieri</td>\n      <td>Paesi esteri</td>\n      <td>175</td>\n      <td>610</td>\n    </tr>\n    <tr>\n      <th>667</th>\n      <td>2021-12-01</td>\n      <td>esercizi alberghieri</td>\n      <td>Italia</td>\n      <td>9144</td>\n      <td>17671</td>\n    </tr>\n    <tr>\n      <th>668</th>\n      <td>2021-12-01</td>\n      <td>esercizi alberghieri</td>\n      <td>Paesi esteri</td>\n      <td>491</td>\n      <td>1575</td>\n    </tr>\n    <tr>\n      <th>669</th>\n      <td>2021-12-01</td>\n      <td>esercizi extra-alberghieri</td>\n      <td>Italia</td>\n      <td>1723</td>\n      <td>4326</td>\n    </tr>\n    <tr>\n      <th>670</th>\n      <td>2021-12-01</td>\n      <td>esercizi extra-alberghieri</td>\n      <td>Paesi esteri</td>\n      <td>105</td>\n      <td>468</td>\n    </tr>\n  </tbody>\n</table>\n<p>671 rows × 5 columns</p>\n</div>"
     },
     "metadata": {},
     "output_type": "display_data"
    },
    {
     "data": {
      "text/plain": "     2008-01-01        esercizi alberghieri        Italia  49457  153008\n0    2008-01-01        esercizi alberghieri  Paesi esteri   1202    3745\n1    2008-01-01  esercizi extra-alberghieri        Italia   4366   13855\n2    2008-01-01  esercizi extra-alberghieri  Paesi esteri     85     486\n3    2008-02-01        esercizi alberghieri        Italia  56456  160372\n4    2008-02-01        esercizi alberghieri  Paesi esteri   1644    5523\n..          ...                         ...           ...    ...     ...\n666  2021-11-01  esercizi extra-alberghieri  Paesi esteri    149     446\n667  2021-12-01        esercizi alberghieri        Italia  27056   51927\n668  2021-12-01        esercizi alberghieri  Paesi esteri    772    1649\n669  2021-12-01  esercizi extra-alberghieri        Italia   5226    9776\n670  2021-12-01  esercizi extra-alberghieri  Paesi esteri    144     453\n\n[671 rows x 5 columns]",
      "text/html": "<div>\n<style scoped>\n    .dataframe tbody tr th:only-of-type {\n        vertical-align: middle;\n    }\n\n    .dataframe tbody tr th {\n        vertical-align: top;\n    }\n\n    .dataframe thead th {\n        text-align: right;\n    }\n</style>\n<table border=\"1\" class=\"dataframe\">\n  <thead>\n    <tr style=\"text-align: right;\">\n      <th></th>\n      <th>2008-01-01</th>\n      <th>esercizi alberghieri</th>\n      <th>Italia</th>\n      <th>49457</th>\n      <th>153008</th>\n    </tr>\n  </thead>\n  <tbody>\n    <tr>\n      <th>0</th>\n      <td>2008-01-01</td>\n      <td>esercizi alberghieri</td>\n      <td>Paesi esteri</td>\n      <td>1202</td>\n      <td>3745</td>\n    </tr>\n    <tr>\n      <th>1</th>\n      <td>2008-01-01</td>\n      <td>esercizi extra-alberghieri</td>\n      <td>Italia</td>\n      <td>4366</td>\n      <td>13855</td>\n    </tr>\n    <tr>\n      <th>2</th>\n      <td>2008-01-01</td>\n      <td>esercizi extra-alberghieri</td>\n      <td>Paesi esteri</td>\n      <td>85</td>\n      <td>486</td>\n    </tr>\n    <tr>\n      <th>3</th>\n      <td>2008-02-01</td>\n      <td>esercizi alberghieri</td>\n      <td>Italia</td>\n      <td>56456</td>\n      <td>160372</td>\n    </tr>\n    <tr>\n      <th>4</th>\n      <td>2008-02-01</td>\n      <td>esercizi alberghieri</td>\n      <td>Paesi esteri</td>\n      <td>1644</td>\n      <td>5523</td>\n    </tr>\n    <tr>\n      <th>...</th>\n      <td>...</td>\n      <td>...</td>\n      <td>...</td>\n      <td>...</td>\n      <td>...</td>\n    </tr>\n    <tr>\n      <th>666</th>\n      <td>2021-11-01</td>\n      <td>esercizi extra-alberghieri</td>\n      <td>Paesi esteri</td>\n      <td>149</td>\n      <td>446</td>\n    </tr>\n    <tr>\n      <th>667</th>\n      <td>2021-12-01</td>\n      <td>esercizi alberghieri</td>\n      <td>Italia</td>\n      <td>27056</td>\n      <td>51927</td>\n    </tr>\n    <tr>\n      <th>668</th>\n      <td>2021-12-01</td>\n      <td>esercizi alberghieri</td>\n      <td>Paesi esteri</td>\n      <td>772</td>\n      <td>1649</td>\n    </tr>\n    <tr>\n      <th>669</th>\n      <td>2021-12-01</td>\n      <td>esercizi extra-alberghieri</td>\n      <td>Italia</td>\n      <td>5226</td>\n      <td>9776</td>\n    </tr>\n    <tr>\n      <th>670</th>\n      <td>2021-12-01</td>\n      <td>esercizi extra-alberghieri</td>\n      <td>Paesi esteri</td>\n      <td>144</td>\n      <td>453</td>\n    </tr>\n  </tbody>\n</table>\n<p>671 rows × 5 columns</p>\n</div>"
     },
     "metadata": {},
     "output_type": "display_data"
    },
    {
     "data": {
      "text/plain": "     2008-01-01        esercizi alberghieri        Italia  15051  35058\n0    2008-01-01        esercizi alberghieri  Paesi esteri   1975   7002\n1    2008-01-01  esercizi extra-alberghieri        Italia    310   1185\n2    2008-01-01  esercizi extra-alberghieri  Paesi esteri     27    733\n3    2008-02-01        esercizi alberghieri        Italia  17267  32406\n4    2008-02-01        esercizi alberghieri  Paesi esteri   2207   7714\n..          ...                         ...           ...    ...    ...\n666  2021-11-01  esercizi extra-alberghieri  Paesi esteri    232    672\n667  2021-12-01        esercizi alberghieri        Italia  14659  22589\n668  2021-12-01        esercizi alberghieri  Paesi esteri    868   2123\n669  2021-12-01  esercizi extra-alberghieri        Italia   1598   4107\n670  2021-12-01  esercizi extra-alberghieri  Paesi esteri    145    409\n\n[671 rows x 5 columns]",
      "text/html": "<div>\n<style scoped>\n    .dataframe tbody tr th:only-of-type {\n        vertical-align: middle;\n    }\n\n    .dataframe tbody tr th {\n        vertical-align: top;\n    }\n\n    .dataframe thead th {\n        text-align: right;\n    }\n</style>\n<table border=\"1\" class=\"dataframe\">\n  <thead>\n    <tr style=\"text-align: right;\">\n      <th></th>\n      <th>2008-01-01</th>\n      <th>esercizi alberghieri</th>\n      <th>Italia</th>\n      <th>15051</th>\n      <th>35058</th>\n    </tr>\n  </thead>\n  <tbody>\n    <tr>\n      <th>0</th>\n      <td>2008-01-01</td>\n      <td>esercizi alberghieri</td>\n      <td>Paesi esteri</td>\n      <td>1975</td>\n      <td>7002</td>\n    </tr>\n    <tr>\n      <th>1</th>\n      <td>2008-01-01</td>\n      <td>esercizi extra-alberghieri</td>\n      <td>Italia</td>\n      <td>310</td>\n      <td>1185</td>\n    </tr>\n    <tr>\n      <th>2</th>\n      <td>2008-01-01</td>\n      <td>esercizi extra-alberghieri</td>\n      <td>Paesi esteri</td>\n      <td>27</td>\n      <td>733</td>\n    </tr>\n    <tr>\n      <th>3</th>\n      <td>2008-02-01</td>\n      <td>esercizi alberghieri</td>\n      <td>Italia</td>\n      <td>17267</td>\n      <td>32406</td>\n    </tr>\n    <tr>\n      <th>4</th>\n      <td>2008-02-01</td>\n      <td>esercizi alberghieri</td>\n      <td>Paesi esteri</td>\n      <td>2207</td>\n      <td>7714</td>\n    </tr>\n    <tr>\n      <th>...</th>\n      <td>...</td>\n      <td>...</td>\n      <td>...</td>\n      <td>...</td>\n      <td>...</td>\n    </tr>\n    <tr>\n      <th>666</th>\n      <td>2021-11-01</td>\n      <td>esercizi extra-alberghieri</td>\n      <td>Paesi esteri</td>\n      <td>232</td>\n      <td>672</td>\n    </tr>\n    <tr>\n      <th>667</th>\n      <td>2021-12-01</td>\n      <td>esercizi alberghieri</td>\n      <td>Italia</td>\n      <td>14659</td>\n      <td>22589</td>\n    </tr>\n    <tr>\n      <th>668</th>\n      <td>2021-12-01</td>\n      <td>esercizi alberghieri</td>\n      <td>Paesi esteri</td>\n      <td>868</td>\n      <td>2123</td>\n    </tr>\n    <tr>\n      <th>669</th>\n      <td>2021-12-01</td>\n      <td>esercizi extra-alberghieri</td>\n      <td>Italia</td>\n      <td>1598</td>\n      <td>4107</td>\n    </tr>\n    <tr>\n      <th>670</th>\n      <td>2021-12-01</td>\n      <td>esercizi extra-alberghieri</td>\n      <td>Paesi esteri</td>\n      <td>145</td>\n      <td>409</td>\n    </tr>\n  </tbody>\n</table>\n<p>671 rows × 5 columns</p>\n</div>"
     },
     "metadata": {},
     "output_type": "display_data"
    },
    {
     "data": {
      "text/plain": "     2008-01-01        esercizi alberghieri        Italia  10326  32182\n0    2008-01-01        esercizi alberghieri  Paesi esteri    951   4249\n1    2008-01-01  esercizi extra-alberghieri        Italia    186    608\n2    2008-01-01  esercizi extra-alberghieri  Paesi esteri     13     79\n3    2008-02-01        esercizi alberghieri        Italia  12081  38551\n4    2008-02-01        esercizi alberghieri  Paesi esteri   1353   6219\n..          ...                         ...           ...    ...    ...\n666  2021-11-01  esercizi extra-alberghieri  Paesi esteri     88    425\n667  2021-12-01        esercizi alberghieri        Italia   7582  19674\n668  2021-12-01        esercizi alberghieri  Paesi esteri    410   1761\n669  2021-12-01  esercizi extra-alberghieri        Italia   1333   4437\n670  2021-12-01  esercizi extra-alberghieri  Paesi esteri     60    294\n\n[671 rows x 5 columns]",
      "text/html": "<div>\n<style scoped>\n    .dataframe tbody tr th:only-of-type {\n        vertical-align: middle;\n    }\n\n    .dataframe tbody tr th {\n        vertical-align: top;\n    }\n\n    .dataframe thead th {\n        text-align: right;\n    }\n</style>\n<table border=\"1\" class=\"dataframe\">\n  <thead>\n    <tr style=\"text-align: right;\">\n      <th></th>\n      <th>2008-01-01</th>\n      <th>esercizi alberghieri</th>\n      <th>Italia</th>\n      <th>10326</th>\n      <th>32182</th>\n    </tr>\n  </thead>\n  <tbody>\n    <tr>\n      <th>0</th>\n      <td>2008-01-01</td>\n      <td>esercizi alberghieri</td>\n      <td>Paesi esteri</td>\n      <td>951</td>\n      <td>4249</td>\n    </tr>\n    <tr>\n      <th>1</th>\n      <td>2008-01-01</td>\n      <td>esercizi extra-alberghieri</td>\n      <td>Italia</td>\n      <td>186</td>\n      <td>608</td>\n    </tr>\n    <tr>\n      <th>2</th>\n      <td>2008-01-01</td>\n      <td>esercizi extra-alberghieri</td>\n      <td>Paesi esteri</td>\n      <td>13</td>\n      <td>79</td>\n    </tr>\n    <tr>\n      <th>3</th>\n      <td>2008-02-01</td>\n      <td>esercizi alberghieri</td>\n      <td>Italia</td>\n      <td>12081</td>\n      <td>38551</td>\n    </tr>\n    <tr>\n      <th>4</th>\n      <td>2008-02-01</td>\n      <td>esercizi alberghieri</td>\n      <td>Paesi esteri</td>\n      <td>1353</td>\n      <td>6219</td>\n    </tr>\n    <tr>\n      <th>...</th>\n      <td>...</td>\n      <td>...</td>\n      <td>...</td>\n      <td>...</td>\n      <td>...</td>\n    </tr>\n    <tr>\n      <th>666</th>\n      <td>2021-11-01</td>\n      <td>esercizi extra-alberghieri</td>\n      <td>Paesi esteri</td>\n      <td>88</td>\n      <td>425</td>\n    </tr>\n    <tr>\n      <th>667</th>\n      <td>2021-12-01</td>\n      <td>esercizi alberghieri</td>\n      <td>Italia</td>\n      <td>7582</td>\n      <td>19674</td>\n    </tr>\n    <tr>\n      <th>668</th>\n      <td>2021-12-01</td>\n      <td>esercizi alberghieri</td>\n      <td>Paesi esteri</td>\n      <td>410</td>\n      <td>1761</td>\n    </tr>\n    <tr>\n      <th>669</th>\n      <td>2021-12-01</td>\n      <td>esercizi extra-alberghieri</td>\n      <td>Italia</td>\n      <td>1333</td>\n      <td>4437</td>\n    </tr>\n    <tr>\n      <th>670</th>\n      <td>2021-12-01</td>\n      <td>esercizi extra-alberghieri</td>\n      <td>Paesi esteri</td>\n      <td>60</td>\n      <td>294</td>\n    </tr>\n  </tbody>\n</table>\n<p>671 rows × 5 columns</p>\n</div>"
     },
     "metadata": {},
     "output_type": "display_data"
    }
   ],
   "source": [
    "path_abruzzo = 'DataSet/Abruzzo.csv'\n",
    "path_chieti = 'DataSet/Chieti.csv'\n",
    "path_laquila = 'DataSet/L_Aquila.csv'\n",
    "path_pescara = 'DataSet/Pescara.csv'\n",
    "path_teramo = 'DataSet/Teramo.csv'\n",
    "\n",
    "df_abruzzo = pd.read_csv(path_abruzzo)\n",
    "df_chieti = pd.read_csv(path_chieti)\n",
    "df_laquila = pd.read_csv(path_laquila)\n",
    "df_pescara = pd.read_csv(path_pescara)\n",
    "df_teramo = pd.read_csv(path_teramo)\n",
    "\n",
    "display(df_abruzzo)\n",
    "display(df_chieti)\n",
    "display(df_laquila)\n",
    "display(df_pescara)\n",
    "display(df_teramo)"
   ],
   "metadata": {
    "collapsed": false,
    "pycharm": {
     "name": "#%%\n"
    }
   }
  }
 ],
 "metadata": {
  "kernelspec": {
   "display_name": "Python 3",
   "language": "python",
   "name": "python3"
  },
  "language_info": {
   "codemirror_mode": {
    "name": "ipython",
    "version": 2
   },
   "file_extension": ".py",
   "mimetype": "text/x-python",
   "name": "python",
   "nbconvert_exporter": "python",
   "pygments_lexer": "ipython2",
   "version": "2.7.6"
  }
 },
 "nbformat": 4,
 "nbformat_minor": 0
}